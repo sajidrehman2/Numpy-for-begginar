{
 "cells": [
  {
   "cell_type": "code",
   "execution_count": 1,
   "id": "f6bd68e8",
   "metadata": {},
   "outputs": [],
   "source": [
    "import numpy as np"
   ]
  },
  {
   "cell_type": "markdown",
   "id": "5b94ed18",
   "metadata": {},
   "source": [
    "# Numpy:\n",
    "  -  NumPy can be used to perform a wide variety of mathematical operations on arrays. It adds powerful data structures to Python that guarantee efficient calculations with arrays and matrices and it supplies an enormous library of high-level mathematical functions that operate on these arrays and matrices."
   ]
  },
  {
   "cell_type": "code",
   "execution_count": 3,
   "id": "21a17688",
   "metadata": {},
   "outputs": [],
   "source": [
    "# Creating numpy arrays\n",
    "          #- type casting a list \n",
    "         # - arange()\n",
    "          ##- np.random.randint"
   ]
  },
  {
   "cell_type": "code",
   "execution_count": 4,
   "id": "322c8536",
   "metadata": {},
   "outputs": [
    {
     "ename": "TypeError",
     "evalue": "array() takes from 1 to 2 positional arguments but 5 were given",
     "output_type": "error",
     "traceback": [
      "\u001b[1;31m---------------------------------------------------------------------------\u001b[0m",
      "\u001b[1;31mTypeError\u001b[0m                                 Traceback (most recent call last)",
      "Cell \u001b[1;32mIn[4], line 1\u001b[0m\n\u001b[1;32m----> 1\u001b[0m arr\u001b[38;5;241m=\u001b[39mnp\u001b[38;5;241m.\u001b[39marray(\u001b[38;5;241m1\u001b[39m,\u001b[38;5;241m2\u001b[39m,\u001b[38;5;241m3\u001b[39m,\u001b[38;5;241m4\u001b[39m,\u001b[38;5;241m5\u001b[39m)\n",
      "\u001b[1;31mTypeError\u001b[0m: array() takes from 1 to 2 positional arguments but 5 were given"
     ]
    }
   ],
   "source": [
    "arr=np.array(1,2,3,4,5)"
   ]
  },
  {
   "cell_type": "code",
   "execution_count": 5,
   "id": "49e2bc30",
   "metadata": {},
   "outputs": [],
   "source": [
    "arr=np.array([1,2,3,4,5])"
   ]
  },
  {
   "cell_type": "code",
   "execution_count": 6,
   "id": "f950c6bc",
   "metadata": {},
   "outputs": [
    {
     "data": {
      "text/plain": [
       "array([1, 2, 3, 4, 5])"
      ]
     },
     "execution_count": 6,
     "metadata": {},
     "output_type": "execute_result"
    }
   ],
   "source": [
    "arr"
   ]
  },
  {
   "cell_type": "code",
   "execution_count": 8,
   "id": "bd515136",
   "metadata": {},
   "outputs": [
    {
     "data": {
      "text/plain": [
       "numpy.ndarray"
      ]
     },
     "execution_count": 8,
     "metadata": {},
     "output_type": "execute_result"
    }
   ],
   "source": [
    "type(arr)"
   ]
  },
  {
   "cell_type": "code",
   "execution_count": 11,
   "id": "590d14a3",
   "metadata": {},
   "outputs": [
    {
     "data": {
      "text/plain": [
       "5"
      ]
     },
     "execution_count": 11,
     "metadata": {},
     "output_type": "execute_result"
    }
   ],
   "source": [
    "arr.size"
   ]
  },
  {
   "cell_type": "code",
   "execution_count": 13,
   "id": "c7891911",
   "metadata": {},
   "outputs": [
    {
     "data": {
      "text/plain": [
       "(5,)"
      ]
     },
     "execution_count": 13,
     "metadata": {},
     "output_type": "execute_result"
    }
   ],
   "source": [
    "arr.shape"
   ]
  },
  {
   "cell_type": "code",
   "execution_count": 16,
   "id": "d6c65a24",
   "metadata": {},
   "outputs": [
    {
     "data": {
      "text/plain": [
       "5"
      ]
     },
     "execution_count": 16,
     "metadata": {},
     "output_type": "execute_result"
    }
   ],
   "source": [
    "arr.max()"
   ]
  },
  {
   "cell_type": "code",
   "execution_count": 17,
   "id": "de76bb5b",
   "metadata": {},
   "outputs": [
    {
     "data": {
      "text/plain": [
       "1"
      ]
     },
     "execution_count": 17,
     "metadata": {},
     "output_type": "execute_result"
    }
   ],
   "source": [
    "arr.min()"
   ]
  },
  {
   "cell_type": "markdown",
   "id": "e536aa12",
   "metadata": {},
   "source": [
    "# 2D Array"
   ]
  },
  {
   "cell_type": "code",
   "execution_count": 22,
   "id": "128b1891",
   "metadata": {},
   "outputs": [],
   "source": [
    "arr2=np.arange(20).reshape(5,4)"
   ]
  },
  {
   "cell_type": "code",
   "execution_count": 23,
   "id": "d30e01ff",
   "metadata": {},
   "outputs": [
    {
     "data": {
      "text/plain": [
       "array([[ 0,  1,  2,  3],\n",
       "       [ 4,  5,  6,  7],\n",
       "       [ 8,  9, 10, 11],\n",
       "       [12, 13, 14, 15],\n",
       "       [16, 17, 18, 19]])"
      ]
     },
     "execution_count": 23,
     "metadata": {},
     "output_type": "execute_result"
    }
   ],
   "source": [
    "arr2"
   ]
  },
  {
   "cell_type": "code",
   "execution_count": 28,
   "id": "408c46ad",
   "metadata": {},
   "outputs": [],
   "source": [
    "arrd=np.arange(25).reshape(5,5)"
   ]
  },
  {
   "cell_type": "code",
   "execution_count": 29,
   "id": "d4ed4192",
   "metadata": {},
   "outputs": [
    {
     "data": {
      "text/plain": [
       "array([[ 0,  1,  2,  3,  4],\n",
       "       [ 5,  6,  7,  8,  9],\n",
       "       [10, 11, 12, 13, 14],\n",
       "       [15, 16, 17, 18, 19],\n",
       "       [20, 21, 22, 23, 24]])"
      ]
     },
     "execution_count": 29,
     "metadata": {},
     "output_type": "execute_result"
    }
   ],
   "source": [
    "arrd"
   ]
  },
  {
   "cell_type": "code",
   "execution_count": 30,
   "id": "2b869e8a",
   "metadata": {},
   "outputs": [],
   "source": [
    "arr2d=np.random.randint(1,25,(5,5))"
   ]
  },
  {
   "cell_type": "code",
   "execution_count": 31,
   "id": "7e84b750",
   "metadata": {},
   "outputs": [
    {
     "data": {
      "text/plain": [
       "array([[24,  1, 12, 23,  1],\n",
       "       [ 5,  4, 20,  1, 17],\n",
       "       [ 8, 16,  1, 23,  6],\n",
       "       [18, 10, 23,  9, 17],\n",
       "       [19, 23, 20, 11, 12]])"
      ]
     },
     "execution_count": 31,
     "metadata": {},
     "output_type": "execute_result"
    }
   ],
   "source": [
    "arr2d"
   ]
  },
  {
   "cell_type": "code",
   "execution_count": 32,
   "id": "1496fcd6",
   "metadata": {},
   "outputs": [],
   "source": [
    "arr2d=np.random.randint(1,20,(5,4))"
   ]
  },
  {
   "cell_type": "code",
   "execution_count": 33,
   "id": "bd3ef6dd",
   "metadata": {},
   "outputs": [
    {
     "data": {
      "text/plain": [
       "array([[15, 11, 12, 17],\n",
       "       [ 8, 19,  7,  7],\n",
       "       [ 9, 14,  9,  8],\n",
       "       [10, 13, 13, 10],\n",
       "       [18, 12,  1, 14]])"
      ]
     },
     "execution_count": 33,
     "metadata": {},
     "output_type": "execute_result"
    }
   ],
   "source": [
    "arr2d"
   ]
  },
  {
   "cell_type": "code",
   "execution_count": 34,
   "id": "c1d3667f",
   "metadata": {},
   "outputs": [],
   "source": [
    "arr2d=np.random.randint(1,20,(5,5))"
   ]
  },
  {
   "cell_type": "code",
   "execution_count": 35,
   "id": "d50ad3c2",
   "metadata": {},
   "outputs": [
    {
     "data": {
      "text/plain": [
       "array([[ 7,  5, 15, 13, 16],\n",
       "       [ 2,  3,  4,  1,  9],\n",
       "       [ 2,  5, 15,  5, 10],\n",
       "       [11, 12,  5, 11, 18],\n",
       "       [14, 18,  5, 15,  1]])"
      ]
     },
     "execution_count": 35,
     "metadata": {},
     "output_type": "execute_result"
    }
   ],
   "source": [
    "arr2d"
   ]
  },
  {
   "cell_type": "code",
   "execution_count": 36,
   "id": "83d666d5",
   "metadata": {},
   "outputs": [],
   "source": [
    "arr2d=np.random.randint(1,25,(6,6))"
   ]
  },
  {
   "cell_type": "markdown",
   "id": "5275b532",
   "metadata": {},
   "source": [
    "# Array Slicing and Indexing"
   ]
  },
  {
   "cell_type": "code",
   "execution_count": 37,
   "id": "df2438cf",
   "metadata": {},
   "outputs": [
    {
     "data": {
      "text/plain": [
       "array([[16, 18, 13, 13, 10, 21],\n",
       "       [ 2, 18, 10, 10, 20, 14],\n",
       "       [10, 13,  3, 16, 10, 10],\n",
       "       [24, 11, 18, 18,  2, 13],\n",
       "       [ 7,  7, 10,  1,  5, 10],\n",
       "       [23, 10, 19, 14, 18, 16]])"
      ]
     },
     "execution_count": 37,
     "metadata": {},
     "output_type": "execute_result"
    }
   ],
   "source": [
    "arr2d"
   ]
  },
  {
   "cell_type": "code",
   "execution_count": 43,
   "id": "c4bfbf5e",
   "metadata": {},
   "outputs": [
    {
     "data": {
      "text/plain": [
       "18"
      ]
     },
     "execution_count": 43,
     "metadata": {},
     "output_type": "execute_result"
    }
   ],
   "source": [
    "# for finding  13\n",
    "arr2d[3,3]\n"
   ]
  },
  {
   "cell_type": "code",
   "execution_count": 44,
   "id": "fb79c94c",
   "metadata": {},
   "outputs": [
    {
     "data": {
      "text/plain": [
       "(16, 16, 16)"
      ]
     },
     "execution_count": 44,
     "metadata": {},
     "output_type": "execute_result"
    }
   ],
   "source": [
    "# for 16\n",
    "arr2d[-1,-1] , arr2d[5,5] ,arr2d[5][5]"
   ]
  },
  {
   "cell_type": "code",
   "execution_count": 48,
   "id": "7967f30d",
   "metadata": {},
   "outputs": [
    {
     "data": {
      "text/plain": [
       "array([[11, 18],\n",
       "       [ 7, 10]])"
      ]
     },
     "execution_count": 48,
     "metadata": {},
     "output_type": "execute_result"
    }
   ],
   "source": [
    "arr2d[3:5,1:3]"
   ]
  },
  {
   "cell_type": "code",
   "execution_count": 49,
   "id": "950744bb",
   "metadata": {},
   "outputs": [
    {
     "data": {
      "text/plain": [
       "array([[ 5, 10],\n",
       "       [18, 16]])"
      ]
     },
     "execution_count": 49,
     "metadata": {},
     "output_type": "execute_result"
    }
   ],
   "source": [
    "arr2d[4: ,4:]"
   ]
  },
  {
   "cell_type": "code",
   "execution_count": 51,
   "id": "5d1d28cb",
   "metadata": {},
   "outputs": [
    {
     "data": {
      "text/plain": [
       "array([21, 14, 10, 13, 10, 16])"
      ]
     },
     "execution_count": 51,
     "metadata": {},
     "output_type": "execute_result"
    }
   ],
   "source": [
    "arr2d[:,5] # this is indexing not slicing"
   ]
  },
  {
   "cell_type": "markdown",
   "id": "611033b1",
   "metadata": {},
   "source": [
    "# 3D Array"
   ]
  },
  {
   "cell_type": "code",
   "execution_count": 52,
   "id": "97a047d4",
   "metadata": {},
   "outputs": [],
   "source": [
    "arr3d=np.arange(20).reshape(2,2,5)"
   ]
  },
  {
   "cell_type": "code",
   "execution_count": 53,
   "id": "ad2e6008",
   "metadata": {},
   "outputs": [
    {
     "data": {
      "text/plain": [
       "array([[[ 0,  1,  2,  3,  4],\n",
       "        [ 5,  6,  7,  8,  9]],\n",
       "\n",
       "       [[10, 11, 12, 13, 14],\n",
       "        [15, 16, 17, 18, 19]]])"
      ]
     },
     "execution_count": 53,
     "metadata": {},
     "output_type": "execute_result"
    }
   ],
   "source": [
    "arr3d"
   ]
  },
  {
   "cell_type": "code",
   "execution_count": 56,
   "id": "2addce50",
   "metadata": {},
   "outputs": [],
   "source": [
    "arr3d=np.arange(40).reshape(2,4,5) # depth row and columns "
   ]
  },
  {
   "cell_type": "code",
   "execution_count": 57,
   "id": "4fbcce0a",
   "metadata": {},
   "outputs": [
    {
     "data": {
      "text/plain": [
       "array([[[ 0,  1,  2,  3,  4],\n",
       "        [ 5,  6,  7,  8,  9],\n",
       "        [10, 11, 12, 13, 14],\n",
       "        [15, 16, 17, 18, 19]],\n",
       "\n",
       "       [[20, 21, 22, 23, 24],\n",
       "        [25, 26, 27, 28, 29],\n",
       "        [30, 31, 32, 33, 34],\n",
       "        [35, 36, 37, 38, 39]]])"
      ]
     },
     "execution_count": 57,
     "metadata": {},
     "output_type": "execute_result"
    }
   ],
   "source": [
    "arr3d"
   ]
  },
  {
   "cell_type": "code",
   "execution_count": 58,
   "id": "178478f8",
   "metadata": {},
   "outputs": [],
   "source": [
    "arr3d=np.random.randint(1,40,(2,5,4))"
   ]
  },
  {
   "cell_type": "code",
   "execution_count": 59,
   "id": "d116146a",
   "metadata": {},
   "outputs": [
    {
     "data": {
      "text/plain": [
       "array([[[13,  9,  3, 11],\n",
       "        [ 4, 35, 12,  9],\n",
       "        [37, 18,  6, 14],\n",
       "        [21, 23,  6, 21],\n",
       "        [35,  4, 30,  7]],\n",
       "\n",
       "       [[24, 30, 36,  5],\n",
       "        [20, 38, 29, 24],\n",
       "        [35,  6, 39,  5],\n",
       "        [20, 22,  7, 31],\n",
       "        [13, 34, 17,  9]]])"
      ]
     },
     "execution_count": 59,
     "metadata": {},
     "output_type": "execute_result"
    }
   ],
   "source": [
    "arr3d"
   ]
  },
  {
   "cell_type": "markdown",
   "id": "baee233c",
   "metadata": {},
   "source": [
    "# Vectorize oprations \n",
    " - vectorize opration is opration in which the opration is apply in all arrry or funcation"
   ]
  },
  {
   "cell_type": "code",
   "execution_count": 60,
   "id": "409efde2",
   "metadata": {},
   "outputs": [
    {
     "data": {
      "text/plain": [
       "array([1, 2, 3, 4, 5])"
      ]
     },
     "execution_count": 60,
     "metadata": {},
     "output_type": "execute_result"
    }
   ],
   "source": [
    "arr"
   ]
  },
  {
   "cell_type": "code",
   "execution_count": 61,
   "id": "3885d455",
   "metadata": {},
   "outputs": [
    {
     "data": {
      "text/plain": [
       "array([ 2,  4,  6,  8, 10])"
      ]
     },
     "execution_count": 61,
     "metadata": {},
     "output_type": "execute_result"
    }
   ],
   "source": [
    "arr*2"
   ]
  },
  {
   "cell_type": "code",
   "execution_count": 62,
   "id": "ad8f87f8",
   "metadata": {},
   "outputs": [
    {
     "data": {
      "text/plain": [
       "array([3, 4, 5, 6, 7])"
      ]
     },
     "execution_count": 62,
     "metadata": {},
     "output_type": "execute_result"
    }
   ],
   "source": [
    "arr+2"
   ]
  },
  {
   "cell_type": "code",
   "execution_count": 63,
   "id": "7985004e",
   "metadata": {},
   "outputs": [
    {
     "data": {
      "text/plain": [
       "array([0.5, 1. , 1.5, 2. , 2.5])"
      ]
     },
     "execution_count": 63,
     "metadata": {},
     "output_type": "execute_result"
    }
   ],
   "source": [
    "arr/2"
   ]
  },
  {
   "cell_type": "code",
   "execution_count": 64,
   "id": "88d0e365",
   "metadata": {},
   "outputs": [
    {
     "data": {
      "text/plain": [
       "array([ 1,  4,  9, 16, 25])"
      ]
     },
     "execution_count": 64,
     "metadata": {},
     "output_type": "execute_result"
    }
   ],
   "source": [
    "arr**2"
   ]
  },
  {
   "cell_type": "code",
   "execution_count": 65,
   "id": "8922cdd5",
   "metadata": {},
   "outputs": [
    {
     "data": {
      "text/plain": [
       "array([1, 2, 3, 4, 5], dtype=int32)"
      ]
     },
     "execution_count": 65,
     "metadata": {},
     "output_type": "execute_result"
    }
   ],
   "source": [
    "arr%100"
   ]
  },
  {
   "cell_type": "code",
   "execution_count": 67,
   "id": "3a012567",
   "metadata": {},
   "outputs": [
    {
     "data": {
      "text/plain": [
       "array([  1,   8,  27,  64, 125], dtype=int32)"
      ]
     },
     "execution_count": 67,
     "metadata": {},
     "output_type": "execute_result"
    }
   ],
   "source": [
    "arr**3"
   ]
  },
  {
   "cell_type": "code",
   "execution_count": 68,
   "id": "ac1a48fc",
   "metadata": {},
   "outputs": [],
   "source": [
    "# All mathematical opration is apply on the array array perfome very past opration within second"
   ]
  },
  {
   "cell_type": "code",
   "execution_count": 72,
   "id": "79d990a8",
   "metadata": {},
   "outputs": [],
   "source": [
    "zero=np.zeros(6)"
   ]
  },
  {
   "cell_type": "code",
   "execution_count": 73,
   "id": "a43f2e38",
   "metadata": {},
   "outputs": [
    {
     "data": {
      "text/plain": [
       "array([0., 0., 0., 0., 0., 0.])"
      ]
     },
     "execution_count": 73,
     "metadata": {},
     "output_type": "execute_result"
    }
   ],
   "source": [
    "zero"
   ]
  },
  {
   "cell_type": "code",
   "execution_count": 75,
   "id": "47616636",
   "metadata": {},
   "outputs": [],
   "source": [
    "zero=np.zeros((5,4),dtype=int)"
   ]
  },
  {
   "cell_type": "code",
   "execution_count": 76,
   "id": "533393bd",
   "metadata": {},
   "outputs": [
    {
     "data": {
      "text/plain": [
       "array([[0, 0, 0, 0],\n",
       "       [0, 0, 0, 0],\n",
       "       [0, 0, 0, 0],\n",
       "       [0, 0, 0, 0],\n",
       "       [0, 0, 0, 0]])"
      ]
     },
     "execution_count": 76,
     "metadata": {},
     "output_type": "execute_result"
    }
   ],
   "source": [
    "zero"
   ]
  },
  {
   "cell_type": "code",
   "execution_count": 77,
   "id": "8e74c8ed",
   "metadata": {},
   "outputs": [],
   "source": [
    "ones=np.ones(8)"
   ]
  },
  {
   "cell_type": "code",
   "execution_count": 78,
   "id": "49cbd48b",
   "metadata": {},
   "outputs": [
    {
     "data": {
      "text/plain": [
       "array([1., 1., 1., 1., 1., 1., 1., 1.])"
      ]
     },
     "execution_count": 78,
     "metadata": {},
     "output_type": "execute_result"
    }
   ],
   "source": [
    "ones"
   ]
  },
  {
   "cell_type": "code",
   "execution_count": 79,
   "id": "c5d40283",
   "metadata": {},
   "outputs": [],
   "source": [
    "ones=np.ones((5,4),dtype=int)"
   ]
  },
  {
   "cell_type": "code",
   "execution_count": 80,
   "id": "b008379f",
   "metadata": {},
   "outputs": [
    {
     "data": {
      "text/plain": [
       "array([[1, 1, 1, 1],\n",
       "       [1, 1, 1, 1],\n",
       "       [1, 1, 1, 1],\n",
       "       [1, 1, 1, 1],\n",
       "       [1, 1, 1, 1]])"
      ]
     },
     "execution_count": 80,
     "metadata": {},
     "output_type": "execute_result"
    }
   ],
   "source": [
    "ones"
   ]
  },
  {
   "cell_type": "code",
   "execution_count": 81,
   "id": "f8332327",
   "metadata": {},
   "outputs": [],
   "source": [
    "emppty=np.empty(7)"
   ]
  },
  {
   "cell_type": "code",
   "execution_count": 82,
   "id": "4fab0062",
   "metadata": {},
   "outputs": [
    {
     "data": {
      "text/plain": [
       "array([0.0000000e+000, 0.0000000e+000, 0.0000000e+000, 0.0000000e+000,\n",
       "       0.0000000e+000, 0.0000000e+000, 3.1408287e-317])"
      ]
     },
     "execution_count": 82,
     "metadata": {},
     "output_type": "execute_result"
    }
   ],
   "source": [
    "emppty"
   ]
  },
  {
   "cell_type": "code",
   "execution_count": 84,
   "id": "dd00941a",
   "metadata": {},
   "outputs": [],
   "source": [
    "full=np.full(5,4)"
   ]
  },
  {
   "cell_type": "code",
   "execution_count": 85,
   "id": "3d1407ac",
   "metadata": {},
   "outputs": [
    {
     "data": {
      "text/plain": [
       "array([4, 4, 4, 4, 4])"
      ]
     },
     "execution_count": 85,
     "metadata": {},
     "output_type": "execute_result"
    }
   ],
   "source": [
    "full"
   ]
  },
  {
   "cell_type": "code",
   "execution_count": 87,
   "id": "41dbb4bf",
   "metadata": {},
   "outputs": [],
   "source": [
    "full=np.full((5,4),10)"
   ]
  },
  {
   "cell_type": "code",
   "execution_count": 88,
   "id": "1fff3c21",
   "metadata": {},
   "outputs": [
    {
     "data": {
      "text/plain": [
       "array([[10, 10, 10, 10],\n",
       "       [10, 10, 10, 10],\n",
       "       [10, 10, 10, 10],\n",
       "       [10, 10, 10, 10],\n",
       "       [10, 10, 10, 10]])"
      ]
     },
     "execution_count": 88,
     "metadata": {},
     "output_type": "execute_result"
    }
   ],
   "source": [
    "full"
   ]
  },
  {
   "cell_type": "code",
   "execution_count": 89,
   "id": "da8827ba",
   "metadata": {},
   "outputs": [
    {
     "name": "stdout",
     "output_type": "stream",
     "text": [
      "int32\n"
     ]
    }
   ],
   "source": [
    "print(full.dtype)"
   ]
  },
  {
   "cell_type": "code",
   "execution_count": 93,
   "id": "bdd0567f",
   "metadata": {},
   "outputs": [],
   "source": [
    "full=full.astype('float')# changing the data types of array"
   ]
  },
  {
   "cell_type": "code",
   "execution_count": 94,
   "id": "417612ed",
   "metadata": {},
   "outputs": [
    {
     "data": {
      "text/plain": [
       "dtype('float64')"
      ]
     },
     "execution_count": 94,
     "metadata": {},
     "output_type": "execute_result"
    }
   ],
   "source": [
    "full.dtype"
   ]
  },
  {
   "cell_type": "code",
   "execution_count": 95,
   "id": "6f56c8e6",
   "metadata": {},
   "outputs": [
    {
     "data": {
      "text/plain": [
       "array([[ 0,  1,  2,  3],\n",
       "       [ 4,  5,  6,  7],\n",
       "       [ 8,  9, 10, 11],\n",
       "       [12, 13, 14, 15],\n",
       "       [16, 17, 18, 19]])"
      ]
     },
     "execution_count": 95,
     "metadata": {},
     "output_type": "execute_result"
    }
   ],
   "source": [
    "arr2"
   ]
  },
  {
   "cell_type": "code",
   "execution_count": 96,
   "id": "78381cf7",
   "metadata": {},
   "outputs": [
    {
     "data": {
      "text/plain": [
       "array([[16, 18, 13, 13, 10, 21],\n",
       "       [ 2, 18, 10, 10, 20, 14],\n",
       "       [10, 13,  3, 16, 10, 10],\n",
       "       [24, 11, 18, 18,  2, 13],\n",
       "       [ 7,  7, 10,  1,  5, 10],\n",
       "       [23, 10, 19, 14, 18, 16]])"
      ]
     },
     "execution_count": 96,
     "metadata": {},
     "output_type": "execute_result"
    }
   ],
   "source": [
    "arr2d"
   ]
  },
  {
   "cell_type": "code",
   "execution_count": 98,
   "id": "ca19dd5c",
   "metadata": {},
   "outputs": [
    {
     "data": {
      "text/plain": [
       "array([[ 0,  1,  2,  3,  4],\n",
       "       [ 5,  6,  7,  8,  9],\n",
       "       [10, 11, 12, 13, 14],\n",
       "       [15, 16, 17, 18, 19],\n",
       "       [20, 21, 22, 23, 24]])"
      ]
     },
     "execution_count": 98,
     "metadata": {},
     "output_type": "execute_result"
    }
   ],
   "source": [
    "arrd"
   ]
  },
  {
   "cell_type": "code",
   "execution_count": 111,
   "id": "6f8e7718",
   "metadata": {},
   "outputs": [],
   "source": [
    "arr2d=np.arange(36).reshape(6,6)"
   ]
  },
  {
   "cell_type": "code",
   "execution_count": 112,
   "id": "a1a1a3c8",
   "metadata": {},
   "outputs": [],
   "source": [
    "arr2=np.random.randint(1,36,(6,6))"
   ]
  },
  {
   "cell_type": "code",
   "execution_count": 113,
   "id": "cb5d6ddf",
   "metadata": {},
   "outputs": [
    {
     "data": {
      "text/plain": [
       "array([[12, 30, 16, 28, 33, 15],\n",
       "       [14,  2, 28, 17, 33, 30],\n",
       "       [17, 24,  4,  1, 11, 32],\n",
       "       [35, 30, 24,  5, 18,  6],\n",
       "       [ 7, 25,  4, 20, 20, 26],\n",
       "       [25, 21,  7,  6, 28,  1]])"
      ]
     },
     "execution_count": 113,
     "metadata": {},
     "output_type": "execute_result"
    }
   ],
   "source": [
    "arr2"
   ]
  },
  {
   "cell_type": "code",
   "execution_count": 114,
   "id": "ec6ed3fe",
   "metadata": {},
   "outputs": [
    {
     "data": {
      "text/plain": [
       "array([[ 0,  1,  2,  3,  4,  5],\n",
       "       [ 6,  7,  8,  9, 10, 11],\n",
       "       [12, 13, 14, 15, 16, 17],\n",
       "       [18, 19, 20, 21, 22, 23],\n",
       "       [24, 25, 26, 27, 28, 29],\n",
       "       [30, 31, 32, 33, 34, 35]])"
      ]
     },
     "execution_count": 114,
     "metadata": {},
     "output_type": "execute_result"
    }
   ],
   "source": [
    "arr2d"
   ]
  },
  {
   "cell_type": "code",
   "execution_count": 115,
   "id": "7db6885f",
   "metadata": {},
   "outputs": [
    {
     "data": {
      "text/plain": [
       "array([[12, 31, 18, 31, 37, 20],\n",
       "       [20,  9, 36, 26, 43, 41],\n",
       "       [29, 37, 18, 16, 27, 49],\n",
       "       [53, 49, 44, 26, 40, 29],\n",
       "       [31, 50, 30, 47, 48, 55],\n",
       "       [55, 52, 39, 39, 62, 36]])"
      ]
     },
     "execution_count": 115,
     "metadata": {},
     "output_type": "execute_result"
    }
   ],
   "source": [
    "arr2+arr2d"
   ]
  },
  {
   "cell_type": "code",
   "execution_count": 116,
   "id": "9b5c5e9c",
   "metadata": {},
   "outputs": [
    {
     "data": {
      "text/plain": [
       "array([[  0,  30,  32,  84, 132,  75],\n",
       "       [ 84,  14, 224, 153, 330, 330],\n",
       "       [204, 312,  56,  15, 176, 544],\n",
       "       [630, 570, 480, 105, 396, 138],\n",
       "       [168, 625, 104, 540, 560, 754],\n",
       "       [750, 651, 224, 198, 952,  35]])"
      ]
     },
     "execution_count": 116,
     "metadata": {},
     "output_type": "execute_result"
    }
   ],
   "source": [
    "arr2*arr2d"
   ]
  },
  {
   "cell_type": "code",
   "execution_count": 118,
   "id": "9616279b",
   "metadata": {},
   "outputs": [
    {
     "data": {
      "text/plain": [
       "array([[0.00000000e+00, 3.33333333e-02, 1.25000000e-01, 1.07142857e-01,\n",
       "        1.21212121e-01, 3.33333333e-01],\n",
       "       [4.28571429e-01, 3.50000000e+00, 2.85714286e-01, 5.29411765e-01,\n",
       "        3.03030303e-01, 3.66666667e-01],\n",
       "       [7.05882353e-01, 5.41666667e-01, 3.50000000e+00, 1.50000000e+01,\n",
       "        1.45454545e+00, 5.31250000e-01],\n",
       "       [5.14285714e-01, 6.33333333e-01, 8.33333333e-01, 4.20000000e+00,\n",
       "        1.22222222e+00, 3.83333333e+00],\n",
       "       [3.42857143e+00, 1.00000000e+00, 6.50000000e+00, 1.35000000e+00,\n",
       "        1.40000000e+00, 1.11538462e+00],\n",
       "       [1.20000000e+00, 1.47619048e+00, 4.57142857e+00, 5.50000000e+00,\n",
       "        1.21428571e+00, 3.50000000e+01]])"
      ]
     },
     "execution_count": 118,
     "metadata": {},
     "output_type": "execute_result"
    }
   ],
   "source": [
    "arr2d/arr2"
   ]
  },
  {
   "cell_type": "markdown",
   "id": "d5a23ca6",
   "metadata": {},
   "source": [
    "# Boolaen indexing"
   ]
  },
  {
   "cell_type": "code",
   "execution_count": 119,
   "id": "0c53e375",
   "metadata": {},
   "outputs": [
    {
     "data": {
      "text/plain": [
       "array([ 1,  2,  3,  4,  5,  6,  7,  8,  9, 10])"
      ]
     },
     "execution_count": 119,
     "metadata": {},
     "output_type": "execute_result"
    }
   ],
   "source": [
    "arr = np.array([1,2,3,4,5,6,7,8,9,10])\n",
    "arr"
   ]
  },
  {
   "cell_type": "code",
   "execution_count": 120,
   "id": "ba3b9ba1",
   "metadata": {},
   "outputs": [],
   "source": [
    "bool_arr = [False, True, True, False, True, False, True, True, True,False]"
   ]
  },
  {
   "cell_type": "code",
   "execution_count": 121,
   "id": "469353f1",
   "metadata": {},
   "outputs": [
    {
     "data": {
      "text/plain": [
       "array([2, 3, 5, 7, 8, 9])"
      ]
     },
     "execution_count": 121,
     "metadata": {},
     "output_type": "execute_result"
    }
   ],
   "source": [
    "arr[bool_arr]"
   ]
  },
  {
   "cell_type": "code",
   "execution_count": 124,
   "id": "5dc38e24",
   "metadata": {},
   "outputs": [
    {
     "data": {
      "text/plain": [
       "array([ 3,  4,  5,  6,  7,  8,  9, 10])"
      ]
     },
     "execution_count": 124,
     "metadata": {},
     "output_type": "execute_result"
    }
   ],
   "source": [
    "arr[arr>2]"
   ]
  },
  {
   "cell_type": "code",
   "execution_count": 128,
   "id": "c1f7bbeb",
   "metadata": {},
   "outputs": [
    {
     "data": {
      "text/plain": [
       "array([ 2,  4,  6,  8, 10])"
      ]
     },
     "execution_count": 128,
     "metadata": {},
     "output_type": "execute_result"
    }
   ],
   "source": [
    "arr[arr%2==0]"
   ]
  },
  {
   "cell_type": "code",
   "execution_count": 129,
   "id": "754fbcd3",
   "metadata": {},
   "outputs": [
    {
     "data": {
      "text/plain": [
       "array([5, 6, 7, 8, 9])"
      ]
     },
     "execution_count": 129,
     "metadata": {},
     "output_type": "execute_result"
    }
   ],
   "source": [
    "arr[(arr>4) & (arr<10)]"
   ]
  },
  {
   "cell_type": "code",
   "execution_count": 130,
   "id": "85b23ebf",
   "metadata": {},
   "outputs": [
    {
     "data": {
      "text/plain": [
       "array([ 1,  2,  3,  4,  5,  6,  7,  8,  9, 10])"
      ]
     },
     "execution_count": 130,
     "metadata": {},
     "output_type": "execute_result"
    }
   ],
   "source": [
    "arr[(arr>4) | (arr<10)]"
   ]
  },
  {
   "cell_type": "code",
   "execution_count": 131,
   "id": "a83083c9",
   "metadata": {},
   "outputs": [
    {
     "data": {
      "text/plain": [
       "array([[12, 30, 16, 28, 33, 15],\n",
       "       [14,  2, 28, 17, 33, 30],\n",
       "       [17, 24,  4,  1, 11, 32],\n",
       "       [35, 30, 24,  5, 18,  6],\n",
       "       [ 7, 25,  4, 20, 20, 26],\n",
       "       [25, 21,  7,  6, 28,  1]])"
      ]
     },
     "execution_count": 131,
     "metadata": {},
     "output_type": "execute_result"
    }
   ],
   "source": [
    "arr2"
   ]
  },
  {
   "cell_type": "code",
   "execution_count": 133,
   "id": "b48ce90a",
   "metadata": {},
   "outputs": [
    {
     "data": {
      "text/plain": [
       "array([[12, 30, 30, 30, 30, 30],\n",
       "       [30,  2, 30, 30, 30, 30],\n",
       "       [30, 30,  4,  1, 11, 30],\n",
       "       [30, 30, 30,  5, 30,  6],\n",
       "       [ 7, 30,  4, 30, 30, 30],\n",
       "       [30, 30,  7,  6, 30,  1]])"
      ]
     },
     "execution_count": 133,
     "metadata": {},
     "output_type": "execute_result"
    }
   ],
   "source": [
    "np.where(arr2>12,30,arr2)"
   ]
  },
  {
   "cell_type": "code",
   "execution_count": 135,
   "id": "fca31acf",
   "metadata": {},
   "outputs": [
    {
     "data": {
      "text/plain": [
       "array([[ 1,  1,  1,  1,  1,  1],\n",
       "       [ 1,  2,  1,  1,  1,  1],\n",
       "       [ 1,  1,  4,  1, 11,  1],\n",
       "       [ 1,  1,  1,  5,  1,  6],\n",
       "       [ 7,  1,  4,  1,  1,  1],\n",
       "       [ 1,  1,  7,  6,  1,  1]])"
      ]
     },
     "execution_count": 135,
     "metadata": {},
     "output_type": "execute_result"
    }
   ],
   "source": [
    "np.where(arr2>=12,1,arr2)"
   ]
  },
  {
   "cell_type": "markdown",
   "id": "a9b46543",
   "metadata": {},
   "source": [
    "# concatnating array"
   ]
  },
  {
   "cell_type": "code",
   "execution_count": 137,
   "id": "c64064d2",
   "metadata": {},
   "outputs": [],
   "source": [
    "new_arr=np.concatenate([arr2,arr2d])"
   ]
  },
  {
   "cell_type": "code",
   "execution_count": 138,
   "id": "6808efcf",
   "metadata": {},
   "outputs": [
    {
     "data": {
      "text/plain": [
       "array([[12, 30, 16, 28, 33, 15],\n",
       "       [14,  2, 28, 17, 33, 30],\n",
       "       [17, 24,  4,  1, 11, 32],\n",
       "       [35, 30, 24,  5, 18,  6],\n",
       "       [ 7, 25,  4, 20, 20, 26],\n",
       "       [25, 21,  7,  6, 28,  1],\n",
       "       [ 0,  1,  2,  3,  4,  5],\n",
       "       [ 6,  7,  8,  9, 10, 11],\n",
       "       [12, 13, 14, 15, 16, 17],\n",
       "       [18, 19, 20, 21, 22, 23],\n",
       "       [24, 25, 26, 27, 28, 29],\n",
       "       [30, 31, 32, 33, 34, 35]])"
      ]
     },
     "execution_count": 138,
     "metadata": {},
     "output_type": "execute_result"
    }
   ],
   "source": [
    "new_arr"
   ]
  },
  {
   "cell_type": "code",
   "execution_count": 141,
   "id": "b1f2a034",
   "metadata": {},
   "outputs": [],
   "source": [
    "new_arr=np.concatenate([arr2,arr2d],axis=1)"
   ]
  },
  {
   "cell_type": "code",
   "execution_count": 142,
   "id": "5318f0d1",
   "metadata": {},
   "outputs": [
    {
     "data": {
      "text/plain": [
       "array([[12, 30, 16, 28, 33, 15,  0,  1,  2,  3,  4,  5],\n",
       "       [14,  2, 28, 17, 33, 30,  6,  7,  8,  9, 10, 11],\n",
       "       [17, 24,  4,  1, 11, 32, 12, 13, 14, 15, 16, 17],\n",
       "       [35, 30, 24,  5, 18,  6, 18, 19, 20, 21, 22, 23],\n",
       "       [ 7, 25,  4, 20, 20, 26, 24, 25, 26, 27, 28, 29],\n",
       "       [25, 21,  7,  6, 28,  1, 30, 31, 32, 33, 34, 35]])"
      ]
     },
     "execution_count": 142,
     "metadata": {},
     "output_type": "execute_result"
    }
   ],
   "source": [
    "new_arr"
   ]
  },
  {
   "cell_type": "code",
   "execution_count": 143,
   "id": "75c909de",
   "metadata": {},
   "outputs": [],
   "source": [
    "new_arr=np.concatenate([arr2,arr2d],axis=0)"
   ]
  },
  {
   "cell_type": "code",
   "execution_count": 145,
   "id": "55eb1afb",
   "metadata": {},
   "outputs": [
    {
     "data": {
      "text/plain": [
       "array([[12, 30, 16, 28, 33, 15],\n",
       "       [14,  2, 28, 17, 33, 30],\n",
       "       [17, 24,  4,  1, 11, 32],\n",
       "       [35, 30, 24,  5, 18,  6],\n",
       "       [ 7, 25,  4, 20, 20, 26],\n",
       "       [25, 21,  7,  6, 28,  1],\n",
       "       [ 0,  1,  2,  3,  4,  5],\n",
       "       [ 6,  7,  8,  9, 10, 11],\n",
       "       [12, 13, 14, 15, 16, 17],\n",
       "       [18, 19, 20, 21, 22, 23],\n",
       "       [24, 25, 26, 27, 28, 29],\n",
       "       [30, 31, 32, 33, 34, 35]])"
      ]
     },
     "execution_count": 145,
     "metadata": {},
     "output_type": "execute_result"
    }
   ],
   "source": [
    "new_arr"
   ]
  },
  {
   "cell_type": "markdown",
   "id": "588b0a5d",
   "metadata": {},
   "source": [
    "# spliting of Array"
   ]
  },
  {
   "cell_type": "code",
   "execution_count": 149,
   "id": "25c2f96f",
   "metadata": {},
   "outputs": [
    {
     "data": {
      "text/plain": [
       "[array([[12, 30, 16, 28, 33, 15],\n",
       "        [14,  2, 28, 17, 33, 30]]),\n",
       " array([[17, 24,  4,  1, 11, 32],\n",
       "        [35, 30, 24,  5, 18,  6]]),\n",
       " array([[ 7, 25,  4, 20, 20, 26],\n",
       "        [25, 21,  7,  6, 28,  1]]),\n",
       " array([[ 0,  1,  2,  3,  4,  5],\n",
       "        [ 6,  7,  8,  9, 10, 11]]),\n",
       " array([[12, 13, 14, 15, 16, 17],\n",
       "        [18, 19, 20, 21, 22, 23]]),\n",
       " array([[24, 25, 26, 27, 28, 29],\n",
       "        [30, 31, 32, 33, 34, 35]])]"
      ]
     },
     "execution_count": 149,
     "metadata": {},
     "output_type": "execute_result"
    }
   ],
   "source": [
    "np.split(new_arr,6,axis=0)"
   ]
  },
  {
   "cell_type": "code",
   "execution_count": 152,
   "id": "4c0b8764",
   "metadata": {},
   "outputs": [
    {
     "data": {
      "text/plain": [
       "[array([[12, 30, 16, 28, 33, 15],\n",
       "        [14,  2, 28, 17, 33, 30],\n",
       "        [17, 24,  4,  1, 11, 32],\n",
       "        [35, 30, 24,  5, 18,  6],\n",
       "        [ 7, 25,  4, 20, 20, 26],\n",
       "        [25, 21,  7,  6, 28,  1],\n",
       "        [ 0,  1,  2,  3,  4,  5],\n",
       "        [ 6,  7,  8,  9, 10, 11],\n",
       "        [12, 13, 14, 15, 16, 17],\n",
       "        [18, 19, 20, 21, 22, 23]]),\n",
       " array([], shape=(0, 6), dtype=int32),\n",
       " array([[17, 24,  4,  1, 11, 32],\n",
       "        [35, 30, 24,  5, 18,  6],\n",
       "        [ 7, 25,  4, 20, 20, 26],\n",
       "        [25, 21,  7,  6, 28,  1],\n",
       "        [ 0,  1,  2,  3,  4,  5],\n",
       "        [ 6,  7,  8,  9, 10, 11],\n",
       "        [12, 13, 14, 15, 16, 17],\n",
       "        [18, 19, 20, 21, 22, 23],\n",
       "        [24, 25, 26, 27, 28, 29],\n",
       "        [30, 31, 32, 33, 34, 35]])]"
      ]
     },
     "execution_count": 152,
     "metadata": {},
     "output_type": "execute_result"
    }
   ],
   "source": [
    "np.split(new_arr,[10,2],axis=0)"
   ]
  },
  {
   "cell_type": "code",
   "execution_count": null,
   "id": "0e98b832",
   "metadata": {},
   "outputs": [],
   "source": []
  }
 ],
 "metadata": {
  "kernelspec": {
   "display_name": "Python 3 (ipykernel)",
   "language": "python",
   "name": "python3"
  },
  "language_info": {
   "codemirror_mode": {
    "name": "ipython",
    "version": 3
   },
   "file_extension": ".py",
   "mimetype": "text/x-python",
   "name": "python",
   "nbconvert_exporter": "python",
   "pygments_lexer": "ipython3",
   "version": "3.11.4"
  }
 },
 "nbformat": 4,
 "nbformat_minor": 5
}
